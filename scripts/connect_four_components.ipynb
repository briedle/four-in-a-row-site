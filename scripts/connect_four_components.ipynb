{
 "cells": [
  {
   "cell_type": "code",
   "execution_count": 188,
   "metadata": {},
   "outputs": [],
   "source": [
    "import numpy as np \n",
    "import pandas as pd \n",
    "import json \n",
    "import os\n",
    "import scipy\n",
    "import collections"
   ]
  },
  {
   "cell_type": "code",
   "execution_count": 191,
   "metadata": {},
   "outputs": [
    {
     "data": {
      "text/plain": [
       "GameHistory(player=1, row=2, col=3)"
      ]
     },
     "execution_count": 191,
     "metadata": {},
     "output_type": "execute_result"
    }
   ],
   "source": [
    "GameHistory = collections.namedtuple('GameHistory', 'player row col')\n",
    "\n",
    "t = GameHistory(player=1, row=2, col=3)\n",
    "t"
   ]
  },
  {
   "cell_type": "code",
   "execution_count": 2,
   "metadata": {},
   "outputs": [
    {
     "data": {
      "text/plain": [
       "'c:\\\\Users\\\\Administrator\\\\OneDrive\\\\Desktop\\\\web-projects\\\\four-in-a-row-site'"
      ]
     },
     "execution_count": 2,
     "metadata": {},
     "output_type": "execute_result"
    }
   ],
   "source": [
    "# os.chdir('c:\\\\Users\\\\Administrator\\\\OneDrive\\\\Desktop')\n",
    "os.getcwd()"
   ]
  },
  {
   "cell_type": "code",
   "execution_count": 3,
   "metadata": {},
   "outputs": [],
   "source": [
    "with open('simulationResults.json') as file:\n",
    "    raw_data = json.load(file)\n",
    "\n",
    "# Display the data\n",
    "# print(data)"
   ]
  },
  {
   "cell_type": "code",
   "execution_count": 4,
   "metadata": {},
   "outputs": [],
   "source": [
    "def history_to_df(history):\n",
    "    results = history['results']\n",
    "    history = history['gameHistories']\n",
    "    rows = []\n",
    "    for game_index, game in enumerate(history):\n",
    "        for move in game:\n",
    "            move['game_index'] = game_index\n",
    "            rows.append(move)\n",
    "\n",
    "\n",
    "    df = pd.DataFrame(rows)\n",
    "    df['result'] = df['game_index'].apply(lambda x: results[x])\n",
    "    return df"
   ]
  },
  {
   "cell_type": "code",
   "execution_count": 6,
   "metadata": {},
   "outputs": [
    {
     "data": {
      "text/html": [
       "<div>\n",
       "<style scoped>\n",
       "    .dataframe tbody tr th:only-of-type {\n",
       "        vertical-align: middle;\n",
       "    }\n",
       "\n",
       "    .dataframe tbody tr th {\n",
       "        vertical-align: top;\n",
       "    }\n",
       "\n",
       "    .dataframe thead th {\n",
       "        text-align: right;\n",
       "    }\n",
       "</style>\n",
       "<table border=\"1\" class=\"dataframe\">\n",
       "  <thead>\n",
       "    <tr style=\"text-align: right;\">\n",
       "      <th></th>\n",
       "      <th>column</th>\n",
       "      <th>player</th>\n",
       "      <th>row</th>\n",
       "      <th>game_index</th>\n",
       "      <th>result</th>\n",
       "    </tr>\n",
       "  </thead>\n",
       "  <tbody>\n",
       "    <tr>\n",
       "      <th>0</th>\n",
       "      <td>0</td>\n",
       "      <td>1</td>\n",
       "      <td>5</td>\n",
       "      <td>0</td>\n",
       "      <td>1</td>\n",
       "    </tr>\n",
       "    <tr>\n",
       "      <th>1</th>\n",
       "      <td>2</td>\n",
       "      <td>2</td>\n",
       "      <td>5</td>\n",
       "      <td>0</td>\n",
       "      <td>1</td>\n",
       "    </tr>\n",
       "    <tr>\n",
       "      <th>2</th>\n",
       "      <td>0</td>\n",
       "      <td>1</td>\n",
       "      <td>4</td>\n",
       "      <td>0</td>\n",
       "      <td>1</td>\n",
       "    </tr>\n",
       "    <tr>\n",
       "      <th>3</th>\n",
       "      <td>0</td>\n",
       "      <td>2</td>\n",
       "      <td>3</td>\n",
       "      <td>0</td>\n",
       "      <td>1</td>\n",
       "    </tr>\n",
       "    <tr>\n",
       "      <th>4</th>\n",
       "      <td>0</td>\n",
       "      <td>1</td>\n",
       "      <td>2</td>\n",
       "      <td>0</td>\n",
       "      <td>1</td>\n",
       "    </tr>\n",
       "    <tr>\n",
       "      <th>...</th>\n",
       "      <td>...</td>\n",
       "      <td>...</td>\n",
       "      <td>...</td>\n",
       "      <td>...</td>\n",
       "      <td>...</td>\n",
       "    </tr>\n",
       "    <tr>\n",
       "      <th>272</th>\n",
       "      <td>1</td>\n",
       "      <td>1</td>\n",
       "      <td>3</td>\n",
       "      <td>9</td>\n",
       "      <td>1</td>\n",
       "    </tr>\n",
       "    <tr>\n",
       "      <th>273</th>\n",
       "      <td>1</td>\n",
       "      <td>2</td>\n",
       "      <td>2</td>\n",
       "      <td>9</td>\n",
       "      <td>1</td>\n",
       "    </tr>\n",
       "    <tr>\n",
       "      <th>274</th>\n",
       "      <td>2</td>\n",
       "      <td>1</td>\n",
       "      <td>3</td>\n",
       "      <td>9</td>\n",
       "      <td>1</td>\n",
       "    </tr>\n",
       "    <tr>\n",
       "      <th>275</th>\n",
       "      <td>3</td>\n",
       "      <td>2</td>\n",
       "      <td>3</td>\n",
       "      <td>9</td>\n",
       "      <td>1</td>\n",
       "    </tr>\n",
       "    <tr>\n",
       "      <th>276</th>\n",
       "      <td>3</td>\n",
       "      <td>1</td>\n",
       "      <td>2</td>\n",
       "      <td>9</td>\n",
       "      <td>1</td>\n",
       "    </tr>\n",
       "  </tbody>\n",
       "</table>\n",
       "<p>277 rows × 5 columns</p>\n",
       "</div>"
      ],
      "text/plain": [
       "     column  player  row  game_index  result\n",
       "0         0       1    5           0       1\n",
       "1         2       2    5           0       1\n",
       "2         0       1    4           0       1\n",
       "3         0       2    3           0       1\n",
       "4         0       1    2           0       1\n",
       "..      ...     ...  ...         ...     ...\n",
       "272       1       1    3           9       1\n",
       "273       1       2    2           9       1\n",
       "274       2       1    3           9       1\n",
       "275       3       2    3           9       1\n",
       "276       3       1    2           9       1\n",
       "\n",
       "[277 rows x 5 columns]"
      ]
     },
     "execution_count": 6,
     "metadata": {},
     "output_type": "execute_result"
    }
   ],
   "source": [
    "game_history = history_to_df(raw_data)\n",
    "game_history"
   ]
  },
  {
   "cell_type": "code",
   "execution_count": 7,
   "metadata": {},
   "outputs": [
    {
     "data": {
      "text/plain": [
       "array([[0., 0., 0., 0., 0., 0., 0.],\n",
       "       [0., 0., 0., 0., 0., 0., 0.],\n",
       "       [0., 0., 0., 0., 0., 0., 0.],\n",
       "       [0., 0., 0., 0., 0., 0., 0.],\n",
       "       [0., 0., 0., 0., 0., 0., 0.],\n",
       "       [0., 0., 0., 0., 0., 0., 0.]])"
      ]
     },
     "execution_count": 7,
     "metadata": {},
     "output_type": "execute_result"
    }
   ],
   "source": [
    "n_rows = 6\n",
    "n_cols = 7\n",
    "\n",
    "board = np.zeros((n_rows, n_cols))\n",
    "board\n"
   ]
  },
  {
   "cell_type": "code",
   "execution_count": 8,
   "metadata": {},
   "outputs": [],
   "source": [
    "# need to find a way to for the board to know which row a piece falls into\n",
    "# given the column it is dropped into\n",
    "def find_first_open_row(board, col):\n",
    "    for row in range(board.shape[0] - 1, -1, -1):\n",
    "        if board[row][col] == 0:\n",
    "            return row"
   ]
  },
  {
   "cell_type": "code",
   "execution_count": 21,
   "metadata": {},
   "outputs": [],
   "source": [
    "\n",
    "def find_legal_moves(board):\n",
    "    legal_moves = []\n",
    "    for col in range(board.shape[1]):\n",
    "        if board[0][col] == 0:\n",
    "            legal_moves.append(col)\n",
    "    return legal_moves\n",
    "\n",
    "def drop_piece(board, col, player):\n",
    "    if col not in find_legal_moves(board):\n",
    "        raise ValueError(\"Illegal move: column is full\")\n",
    "    row = find_first_open_row(board, col)\n",
    "    board[row][col] = player\n",
    "    return row, col\n"
   ]
  },
  {
   "cell_type": "code",
   "execution_count": 137,
   "metadata": {},
   "outputs": [
    {
     "data": {
      "text/plain": [
       "array([[1., 0., 0., 1., 0., 0., 0.],\n",
       "       [2., 0., 0., 2., 0., 0., 0.],\n",
       "       [1., 0., 0., 1., 1., 0., 0.],\n",
       "       [2., 0., 0., 2., 1., 0., 0.],\n",
       "       [1., 0., 1., 2., 1., 0., 0.],\n",
       "       [2., 2., 2., 1., 1., 1., 1.]])"
      ]
     },
     "execution_count": 137,
     "metadata": {},
     "output_type": "execute_result"
    }
   ],
   "source": [
    "board = np.zeros((n_rows, n_cols))\n",
    "drop_piece(board, 3, 1)\n",
    "drop_piece(board, 3, 2)\n",
    "drop_piece(board, 4, 1)\n",
    "drop_piece(board, 3, 2)\n",
    "drop_piece(board, 3, 1)\n",
    "drop_piece(board, 3, 2)\n",
    "drop_piece(board, 3, 1)\n",
    "drop_piece(board, 2, 2)\n",
    "drop_piece(board, 2, 1)\n",
    "drop_piece(board, 1, 2)\n",
    "drop_piece(board, 5, 1)\n",
    "drop_piece(board, 0, 2)\n",
    "# drop_piece(board, 6, 1)\n",
    "\n",
    "for i in range(5):\n",
    "    player = i % 2 + 1\n",
    "    drop_piece(board, 0, player)\n",
    "\n",
    "# drop_piece(board, 3, 2)\n",
    "drop_piece(board, 6, 1)\n",
    "\n",
    "for _ in range(3):\n",
    "    drop_piece(board, 4, 1)\n",
    "board"
   ]
  },
  {
   "cell_type": "code",
   "execution_count": 51,
   "metadata": {},
   "outputs": [
    {
     "name": "stdout",
     "output_type": "stream",
     "text": [
      "[2. 2. 2. 1. 1. 1. 1.]\n",
      "[1. 1. 1. 1.]\n",
      "[nan  7.  6.  5.  4. nan nan]\n",
      "[  7.   6.   5.   4. 103. 202. 301.]\n"
     ]
    }
   ],
   "source": [
    "player = 1\n",
    "board_slice = horizontal_slice \n",
    "kernel = np.ones(4) * player\n",
    "\n",
    "print(board_slice)\n",
    "print(kernel)\n",
    "print(scipy.ndimage.convolve1d(board_slice, kernel, mode='constant', cval=np.nan))\n",
    "\n",
    "# kernel"
   ]
  },
  {
   "cell_type": "code",
   "execution_count": 139,
   "metadata": {},
   "outputs": [
    {
     "name": "stdout",
     "output_type": "stream",
     "text": [
      "[2. 2. 1. 1. 1. 1.]\n",
      "[1. 1. 1. 1.]\n"
     ]
    }
   ],
   "source": [
    "# Now need to determine if there is a winner\n",
    "# Need to check if there are 4 in a row horizontally, vertically, or diagonally (positive slope or negative slope)\n",
    "# Need to check if the last piece dropped is part of a 4 in a row\n",
    "# def check_horizontal(board, row, col, player):\n",
    "row = 5\n",
    "col = 4\n",
    "player = 1\n",
    "\n",
    "horizontal_slice = board[row, max(col-3, 0):col+4]\n",
    "vertical_slice = board[max(row-3, 0):row+4, col][::-1]\n",
    "print(horizontal_slice)\n",
    "print(vertical_slice)\n",
    "\n",
    "\n"
   ]
  },
  {
   "cell_type": "code",
   "execution_count": 140,
   "metadata": {},
   "outputs": [
    {
     "name": "stdout",
     "output_type": "stream",
     "text": [
      "[(5, 1), (5, 2), (5, 3), (5, 4), (5, 5), (5, 6)]\n",
      "[(2, 4), (3, 4), (4, 4), (5, 4)]\n",
      "[0.0, 0.0, 2.0, 1.0]\n",
      "[(2, 1), (3, 2), (4, 3), (5, 4)]\n",
      "[1.0, 0.0, 0.0]\n",
      "[(5, 4), (4, 5), (3, 6)]\n"
     ]
    }
   ],
   "source": [
    "# print(horizontal_slice)\n",
    "# print(vertical_slice)\n",
    "\n",
    "horizontal_indices = []\n",
    "for i in range(-3, 4):\n",
    "    if (col+i < 0) or (col+i >= board.shape[1]):\n",
    "        continue\n",
    "    else:\n",
    "        horizontal_indices.append((row, col+i))\n",
    "print(horizontal_indices)\n",
    "\n",
    "vertical_indices = []\n",
    "for i in range(-3, 4):\n",
    "    if (row+i < 0) or (row+i >= board.shape[0]):\n",
    "        continue\n",
    "    else:\n",
    "        vertical_indices.append((row+i, col))\n",
    "print(vertical_indices)\n",
    "\n",
    "\n",
    "negative_slope_slice = []\n",
    "negative_slope_indices = []\n",
    "for i in range(-3, 4):\n",
    "    if (row+i < 0) or (col+i < 0) or (row+i >= board.shape[0]) or (col+i >= board.shape[1]):\n",
    "        continue\n",
    "    else:\n",
    "        negative_slope_slice.append(board[row+i, col+i])\n",
    "        negative_slope_indices.append((row+i, col+i))\n",
    "print(negative_slope_slice)\n",
    "print(negative_slope_indices)\n",
    "\n",
    "\n",
    "positive_slope_slice = []\n",
    "positive_slope_indices = []\n",
    "for i in range(-3, 4):\n",
    "    if (row-i < 0) or (col+i < 0) or (row-i >= board.shape[0]) or (col+i >= board.shape[1]):\n",
    "        continue\n",
    "    else:\n",
    "        positive_slope_slice.append(board[row-i, col+i])\n",
    "        positive_slope_indices.append((row-i, col+i))\n",
    "print(positive_slope_slice)\n",
    "print(positive_slope_indices)"
   ]
  },
  {
   "cell_type": "code",
   "execution_count": 154,
   "metadata": {},
   "outputs": [
    {
     "data": {
      "text/plain": [
       "False"
      ]
     },
     "execution_count": 154,
     "metadata": {},
     "output_type": "execute_result"
    }
   ],
   "source": [
    "input_indices = vertical_indices\n",
    "# input_indices = vertical_indices\n",
    "input_indices = negative_slope_indices\n",
    "input_indices = positive_slope_indices\n",
    "\n",
    "def _check_single_win_condition(board, input_indices, player):\n",
    "    for i in range(len(input_indices) - 3):\n",
    "        if (\n",
    "            (board[input_indices[i][0], input_indices[i][1]] == player) and\n",
    "            (board[input_indices[i+1][0], input_indices[i+1][1]] == player) and\n",
    "            (board[input_indices[i+2][0], input_indices[i+2][1]] == player) and\n",
    "            (board[input_indices[i+3][0], input_indices[i+3][1]] == player)\n",
    "        ):\n",
    "            print('winner!')\n",
    "            return input_indices[i:i+4]\n",
    "    return False\n",
    "    # if np.all(board[i[0] + j, i[1] )\n",
    "\n",
    "winning_indices = get_winning_indices(board, input_indices, player)\n",
    "winning_indices"
   ]
  },
  {
   "cell_type": "code",
   "execution_count": 165,
   "metadata": {},
   "outputs": [
    {
     "name": "stdout",
     "output_type": "stream",
     "text": [
      "[[0. 0. 0. 0. 0. 0. 0.]\n",
      " [0. 0. 0. 0. 0. 0. 0.]\n",
      " [0. 0. 0. 0. 0. 0. 0.]\n",
      " [0. 0. 0. 0. 0. 0. 0.]\n",
      " [0. 0. 0. 0. 0. 0. 0.]\n",
      " [1. 0. 0. 0. 0. 0. 0.]]\n",
      "None\n",
      "[[0. 0. 0. 0. 0. 0. 0.]\n",
      " [0. 0. 0. 0. 0. 0. 0.]\n",
      " [0. 0. 0. 0. 0. 0. 0.]\n",
      " [0. 0. 0. 0. 0. 0. 0.]\n",
      " [0. 0. 0. 0. 0. 0. 0.]\n",
      " [1. 1. 0. 0. 0. 0. 0.]]\n",
      "None\n",
      "[[0. 0. 0. 0. 0. 0. 0.]\n",
      " [0. 0. 0. 0. 0. 0. 0.]\n",
      " [0. 0. 0. 0. 0. 0. 0.]\n",
      " [0. 0. 0. 0. 0. 0. 0.]\n",
      " [0. 0. 0. 0. 0. 0. 0.]\n",
      " [1. 1. 1. 0. 0. 0. 0.]]\n",
      "None\n",
      "[[0. 0. 0. 0. 0. 0. 0.]\n",
      " [0. 0. 0. 0. 0. 0. 0.]\n",
      " [0. 0. 0. 0. 0. 0. 0.]\n",
      " [0. 0. 0. 0. 0. 0. 0.]\n",
      " [0. 0. 0. 0. 0. 0. 0.]\n",
      " [1. 1. 1. 1. 0. 0. 0.]]\n",
      "win\n"
     ]
    },
    {
     "ename": "ValueError",
     "evalue": "Illegal move: game is over",
     "output_type": "error",
     "traceback": [
      "\u001b[1;31m---------------------------------------------------------------------------\u001b[0m",
      "\u001b[1;31mValueError\u001b[0m                                Traceback (most recent call last)",
      "Cell \u001b[1;32mIn[165], line 12\u001b[0m\n\u001b[0;32m     10\u001b[0m \u001b[38;5;28mprint\u001b[39m(board\u001b[38;5;241m.\u001b[39mboard)\n\u001b[0;32m     11\u001b[0m \u001b[38;5;28mprint\u001b[39m(board\u001b[38;5;241m.\u001b[39mgame_state)\n\u001b[1;32m---> 12\u001b[0m \u001b[43mboard\u001b[49m\u001b[38;5;241;43m.\u001b[39;49m\u001b[43mmake_move\u001b[49m\u001b[43m(\u001b[49m\u001b[38;5;241;43m4\u001b[39;49m\u001b[43m,\u001b[49m\u001b[43m \u001b[49m\u001b[38;5;241;43m1\u001b[39;49m\u001b[43m)\u001b[49m\n",
      "Cell \u001b[1;32mIn[163], line 16\u001b[0m, in \u001b[0;36mConnectFourBoard.make_move\u001b[1;34m(self, col, player)\u001b[0m\n\u001b[0;32m     14\u001b[0m     \u001b[38;5;28;01mraise\u001b[39;00m \u001b[38;5;167;01mValueError\u001b[39;00m(\u001b[38;5;124m\"\u001b[39m\u001b[38;5;124mIllegal move: column is full or does not exist\u001b[39m\u001b[38;5;124m\"\u001b[39m)\n\u001b[0;32m     15\u001b[0m \u001b[38;5;28;01mif\u001b[39;00m \u001b[38;5;28mself\u001b[39m\u001b[38;5;241m.\u001b[39mgame_state \u001b[38;5;241m!=\u001b[39m \u001b[38;5;124m'\u001b[39m\u001b[38;5;124mundecided\u001b[39m\u001b[38;5;124m'\u001b[39m:\n\u001b[1;32m---> 16\u001b[0m     \u001b[38;5;28;01mraise\u001b[39;00m \u001b[38;5;167;01mValueError\u001b[39;00m(\u001b[38;5;124m\"\u001b[39m\u001b[38;5;124mIllegal move: game is over\u001b[39m\u001b[38;5;124m\"\u001b[39m)\n\u001b[0;32m     17\u001b[0m \u001b[38;5;28;01mif\u001b[39;00m player \u001b[38;5;129;01mnot\u001b[39;00m \u001b[38;5;129;01min\u001b[39;00m [\u001b[38;5;241m1\u001b[39m, \u001b[38;5;241m2\u001b[39m]:\n\u001b[0;32m     18\u001b[0m     \u001b[38;5;28;01mraise\u001b[39;00m \u001b[38;5;167;01mValueError\u001b[39;00m(\u001b[38;5;124m\"\u001b[39m\u001b[38;5;124mIllegal move: player must be 1 or 2\u001b[39m\u001b[38;5;124m\"\u001b[39m)\n",
      "\u001b[1;31mValueError\u001b[0m: Illegal move: game is over"
     ]
    }
   ],
   "source": [
    "board = ConnectFourBoard()\n",
    "\n",
    "board.make_move(0, 1)\n",
    "print(board.board)\n",
    "print(board.make_move(1, 1.0))\n",
    "print(board.board)\n",
    "print(board.make_move(2, 1))\n",
    "print(board.board)\n",
    "print(board.make_move(3, 1))\n",
    "print(board.board)\n",
    "print(board.game_state)\n",
    "board.make_move(4, 1)"
   ]
  },
  {
   "cell_type": "code",
   "execution_count": 104,
   "metadata": {},
   "outputs": [
    {
     "name": "stdout",
     "output_type": "stream",
     "text": [
      "winner\n"
     ]
    }
   ],
   "source": [
    "input_slice = horizontal_slice\n",
    "\n",
    "for i in range(len(input_slice) - 3):\n",
    "    if np.all(input_slice[i:i+4] == player):\n",
    "        print('winner')\n",
    "        break"
   ]
  },
  {
   "cell_type": "code",
   "execution_count": 89,
   "metadata": {},
   "outputs": [
    {
     "name": "stdout",
     "output_type": "stream",
     "text": [
      "[2. 0. 0. 2. 0. 0.]\n",
      "[nan  4.  2.  2. nan nan]\n",
      "[0. 0. 0. 0. 1.]\n",
      "[nan  0.  1. nan nan]\n",
      "[0.0, 0.0, 1.0, 0.0, 0.0]\n",
      "[nan  1.  1. nan nan]\n",
      "[2.0, 0.0, 0.0, 1.0]\n",
      "[nan  3. nan nan]\n"
     ]
    }
   ],
   "source": [
    "player = 1\n",
    "board_slice = horizontal_slice \n",
    "kernel = np.ones(4) * player\n",
    "\n",
    "print(horizontal_slice)\n",
    "print(scipy.ndimage.convolve1d(horizontal_slice, kernel, mode='constant', cval=np.nan))\n",
    "\n",
    "print(vertical_slice)\n",
    "print(scipy.ndimage.convolve1d(vertical_slice, kernel, mode='constant', cval=np.nan))\n",
    "\n",
    "print(negative_slope_slice)\n",
    "print(scipy.ndimage.convolve1d(negative_slope_slice, kernel, mode='constant', cval=np.nan))\n",
    "\n",
    "print(positive_slope_slice)\n",
    "print(scipy.ndimage.convolve1d(positive_slope_slice, kernel, mode='constant', cval=np.nan))"
   ]
  },
  {
   "cell_type": "code",
   "execution_count": 202,
   "metadata": {},
   "outputs": [
    {
     "name": "stdout",
     "output_type": "stream",
     "text": [
      "Game Over\n"
     ]
    }
   ],
   "source": [
    "board = ConnectFourBoard()\n",
    "player1 = ComputerPlayer(board)\n",
    "player2 = ComputerPlayer(board)\n",
    "game = ConnectFourGame(board, player1, player2)\n",
    "\n",
    "game()"
   ]
  },
  {
   "cell_type": "code",
   "execution_count": 203,
   "metadata": {},
   "outputs": [
    {
     "name": "stdout",
     "output_type": "stream",
     "text": [
      "[[0. 0. 0. 0. 0. 0. 0.]\n",
      " [0. 0. 0. 0. 0. 0. 0.]\n",
      " [0. 0. 0. 2. 1. 0. 0.]\n",
      " [0. 0. 0. 1. 1. 0. 0.]\n",
      " [0. 0. 0. 2. 1. 0. 0.]\n",
      " [0. 2. 0. 2. 1. 1. 2.]]\n",
      "1\n",
      "win\n",
      "[(2, 4), (3, 4), (4, 4), (5, 4)]\n",
      "    player  row  col\n",
      "0        1    5    4\n",
      "1        2    5    3\n",
      "2        1    4    4\n",
      "3        2    4    3\n",
      "4        1    5    5\n",
      "5        2    5    6\n",
      "6        1    3    4\n",
      "7        2    5    1\n",
      "8        1    3    3\n",
      "9        2    2    3\n",
      "10       1    2    4\n"
     ]
    }
   ],
   "source": [
    "print(game.board)\n",
    "print(game.board.winner)\n",
    "print(game.board.game_state)\n",
    "print(game.board.winning_indices)\n",
    "print(game.history.history)"
   ]
  },
  {
   "cell_type": "markdown",
   "metadata": {},
   "source": [
    "# Build classes\n",
    "\n",
    "\n",
    "\n"
   ]
  },
  {
   "cell_type": "code",
   "execution_count": 196,
   "metadata": {},
   "outputs": [],
   "source": [
    "class GameHistory:\n",
    "\n",
    "    def __init__(self):\n",
    "        self.player_number_history = []\n",
    "        self.row_history = []\n",
    "        self.col_history = []\n",
    "\n",
    "\n",
    "    def record_move(self, player_number, row, col):\n",
    "        self.player_number_history.append(player_number)\n",
    "        self.row_history.append(row)\n",
    "        self.col_history.append(col)\n",
    "\n",
    "    def finalize_history(self):\n",
    "        self.history = pd.DataFrame({\n",
    "            'player': self.player_number_history,\n",
    "            'row': self.row_history,\n",
    "            'col': self.col_history\n",
    "        })\n",
    "\n"
   ]
  },
  {
   "cell_type": "code",
   "execution_count": 201,
   "metadata": {},
   "outputs": [],
   "source": [
    "class ConnectFourGame():\n",
    "    \n",
    "    def __init__(self, board, player1, player2):\n",
    "        self.board = board\n",
    "        self.history = GameHistory()\n",
    "        self.player1 = player1\n",
    "        self.player2 = player2\n",
    "        self.current_player = self.player1\n",
    "        self.current_player_number = 1\n",
    "\n",
    "    def __call__(self):\n",
    "        if self.board.game_state == 'undecided':\n",
    "            move = self.current_player.get_move()\n",
    "            try:\n",
    "                row, col = self.board.drop_piece(move, self.current_player_number)\n",
    "            except ValueError:\n",
    "                print('Illegal Move: try again')\n",
    "                self.play()\n",
    "            self.history.record_move(self.current_player_number, row, col)\n",
    "            if self.current_player == self.player1:\n",
    "                self.current_player = self.player2\n",
    "                self.current_player_number = 2\n",
    "            else:\n",
    "                self.current_player = self.player1\n",
    "                self.current_player_number = 1\n",
    "            self.__call__()   \n",
    "        else:\n",
    "            self.history.finalize_history()\n",
    "            print('Game Over')    \n"
   ]
  },
  {
   "cell_type": "code",
   "execution_count": 194,
   "metadata": {},
   "outputs": [],
   "source": [
    "class ConnectFourBoard():\n",
    "\n",
    "    def __init__(self, n_rows=6, n_cols=7):\n",
    "        self.n_rows = n_rows\n",
    "        self.n_cols = n_cols\n",
    "        self.board = np.zeros((n_rows, n_cols))\n",
    "        self.legal_moves = self.get_legal_moves()\n",
    "        self.game_state = 'undecided'\n",
    "        self.winning_indices = None\n",
    "        self.winner = None\n",
    "\n",
    "\n",
    "    def drop_piece(self, col, player_number):\n",
    "        if col not in self.legal_moves:\n",
    "            raise ValueError(\"Illegal move: column is full or does not exist\")\n",
    "        if self.game_state != 'undecided':\n",
    "            raise ValueError(\"Illegal move: game is over\")\n",
    "        if player_number not in [1, 2]:\n",
    "            raise ValueError(\"Illegal move: player must be 1 or 2\")\n",
    "        row = self._get_first_open_row(col)\n",
    "        self.board[row][col] = player_number\n",
    "        self.legal_moves = self.get_legal_moves()\n",
    "        if winning_indices := self.check_win(row, col, player_number):\n",
    "            self.game_state = 'win'\n",
    "            self.winning_indices = winning_indices\n",
    "            self.winner = player_number\n",
    "        elif len(self.legal_moves) == 0:\n",
    "            self.game_state = 'tie'\n",
    "        return row, col\n",
    "        \n",
    "    def get_legal_moves(self):\n",
    "        legal_moves = []\n",
    "        for col in range(self.board.shape[1]):\n",
    "            if self.board[0][col] == 0:\n",
    "                legal_moves.append(col)\n",
    "        return legal_moves\n",
    "    \n",
    "    def check_win(self, row, col, player):\n",
    "        horizontal_indices = self._get_horizontal_indices(row, col)\n",
    "        vertical_indices = self._get_vertical_indices(row, col)\n",
    "        negative_slope_indices = self._get_negative_slope_indices(row, col)\n",
    "        positive_slope_indices = self._get_positive_slope_indices(row, col)\n",
    "        input_indices = [horizontal_indices, vertical_indices, negative_slope_indices, positive_slope_indices]\n",
    "        for indices in input_indices:\n",
    "            if winning_indices := self._check_single_win_condition(indices, player):\n",
    "                return winning_indices\n",
    "        return False\n",
    "\n",
    "    def _get_first_open_row(self, col):\n",
    "        for row in range(self.board.shape[0] - 1, -1, -1):\n",
    "            if self.board[row][col] == 0:\n",
    "                return row\n",
    "            \n",
    "    def _check_single_win_condition(self, input_indices, player_number):\n",
    "        for i in range(len(input_indices) - 3):\n",
    "            if (\n",
    "                (self.board[input_indices[i][0], input_indices[i][1]] == player_number) and\n",
    "                (self.board[input_indices[i+1][0], input_indices[i+1][1]] == player_number) and\n",
    "                (self.board[input_indices[i+2][0], input_indices[i+2][1]] == player_number) and\n",
    "                (self.board[input_indices[i+3][0], input_indices[i+3][1]] == player_number)\n",
    "            ):\n",
    "                return input_indices[i:i+4]\n",
    "        return False\n",
    "            \n",
    "    def _get_horizontal_indices(self, row, col):\n",
    "        indices = []\n",
    "        for i in range(-3, 4):\n",
    "            if (col+i < 0) or (col+i >= self.board.shape[1]):\n",
    "                continue\n",
    "            else:\n",
    "                indices.append((row, col+i))\n",
    "        return indices\n",
    "    \n",
    "    def _get_vertical_indices(self, row, col):\n",
    "        indices = []\n",
    "        for i in range(-3, 4):\n",
    "            if (row+i < 0) or (row+i >= self.board.shape[0]):\n",
    "                continue\n",
    "            else:\n",
    "                indices.append((row+i, col))\n",
    "        return indices\n",
    "    \n",
    "    def _get_negative_slope_indices(self, row, col):\n",
    "        indices = []\n",
    "        for i in range(-3, 4):\n",
    "            if (row+i < 0) or (col+i < 0) or (row+i >= self.board.shape[0]) or (col+i >= self.board.shape[1]):\n",
    "                continue\n",
    "            else:\n",
    "                indices.append((row+i, col+i))\n",
    "        return indices\n",
    "    \n",
    "    def _get_positive_slope_indices(self, row, col):\n",
    "        indices = []\n",
    "        for i in range(-3, 4):\n",
    "            if (row-i < 0) or (col+i < 0) or (row-i >= self.board.shape[0]) or (col+i >= self.board.shape[1]):\n",
    "                continue\n",
    "            else:\n",
    "                indices.append((row-i, col+i))\n",
    "        return indices\n",
    "    \n",
    "    def __str__(self):\n",
    "        return str(self.board)\n",
    "    \n",
    "    def __repr__(self):\n",
    "        return str(self.board)"
   ]
  },
  {
   "cell_type": "code",
   "execution_count": 195,
   "metadata": {},
   "outputs": [],
   "source": [
    "class ComputerPlayer():\n",
    "    def __init__(self, board):\n",
    "        self.board = board\n",
    "\n",
    "    def get_move(self):\n",
    "        return np.random.choice(self.board.legal_moves)"
   ]
  },
  {
   "cell_type": "markdown",
   "metadata": {},
   "source": [
    "# Scatch code below this"
   ]
  },
  {
   "cell_type": "code",
   "execution_count": 43,
   "metadata": {},
   "outputs": [
    {
     "name": "stdout",
     "output_type": "stream",
     "text": [
      "\u001b[1;31mSignature:\u001b[0m\n",
      "\u001b[0mscipy\u001b[0m\u001b[1;33m.\u001b[0m\u001b[0mndimage\u001b[0m\u001b[1;33m.\u001b[0m\u001b[0mconvolve1d\u001b[0m\u001b[1;33m(\u001b[0m\u001b[1;33m\n",
      "\u001b[0m    \u001b[0minput\u001b[0m\u001b[1;33m,\u001b[0m\u001b[1;33m\n",
      "\u001b[0m    \u001b[0mweights\u001b[0m\u001b[1;33m,\u001b[0m\u001b[1;33m\n",
      "\u001b[0m    \u001b[0maxis\u001b[0m\u001b[1;33m=\u001b[0m\u001b[1;33m-\u001b[0m\u001b[1;36m1\u001b[0m\u001b[1;33m,\u001b[0m\u001b[1;33m\n",
      "\u001b[0m    \u001b[0moutput\u001b[0m\u001b[1;33m=\u001b[0m\u001b[1;32mNone\u001b[0m\u001b[1;33m,\u001b[0m\u001b[1;33m\n",
      "\u001b[0m    \u001b[0mmode\u001b[0m\u001b[1;33m=\u001b[0m\u001b[1;34m'reflect'\u001b[0m\u001b[1;33m,\u001b[0m\u001b[1;33m\n",
      "\u001b[0m    \u001b[0mcval\u001b[0m\u001b[1;33m=\u001b[0m\u001b[1;36m0.0\u001b[0m\u001b[1;33m,\u001b[0m\u001b[1;33m\n",
      "\u001b[0m    \u001b[0morigin\u001b[0m\u001b[1;33m=\u001b[0m\u001b[1;36m0\u001b[0m\u001b[1;33m,\u001b[0m\u001b[1;33m\n",
      "\u001b[0m\u001b[1;33m)\u001b[0m\u001b[1;33m\u001b[0m\u001b[1;33m\u001b[0m\u001b[0m\n",
      "\u001b[1;31mDocstring:\u001b[0m\n",
      "Calculate a 1-D convolution along the given axis.\n",
      "\n",
      "The lines of the array along the given axis are convolved with the\n",
      "given weights.\n",
      "\n",
      "Parameters\n",
      "----------\n",
      "input : array_like\n",
      "    The input array.\n",
      "weights : ndarray\n",
      "    1-D sequence of numbers.\n",
      "axis : int, optional\n",
      "    The axis of `input` along which to calculate. Default is -1.\n",
      "output : array or dtype, optional\n",
      "    The array in which to place the output, or the dtype of the\n",
      "    returned array. By default an array of the same dtype as input\n",
      "    will be created.\n",
      "mode : {'reflect', 'constant', 'nearest', 'mirror', 'wrap'}, optional\n",
      "    The `mode` parameter determines how the input array is extended\n",
      "    beyond its boundaries. Default is 'reflect'. Behavior for each valid\n",
      "    value is as follows:\n",
      "\n",
      "    'reflect' (`d c b a | a b c d | d c b a`)\n",
      "        The input is extended by reflecting about the edge of the last\n",
      "        pixel. This mode is also sometimes referred to as half-sample\n",
      "        symmetric.\n",
      "\n",
      "    'constant' (`k k k k | a b c d | k k k k`)\n",
      "        The input is extended by filling all values beyond the edge with\n",
      "        the same constant value, defined by the `cval` parameter.\n",
      "\n",
      "    'nearest' (`a a a a | a b c d | d d d d`)\n",
      "        The input is extended by replicating the last pixel.\n",
      "\n",
      "    'mirror' (`d c b | a b c d | c b a`)\n",
      "        The input is extended by reflecting about the center of the last\n",
      "        pixel. This mode is also sometimes referred to as whole-sample\n",
      "        symmetric.\n",
      "\n",
      "    'wrap' (`a b c d | a b c d | a b c d`)\n",
      "        The input is extended by wrapping around to the opposite edge.\n",
      "\n",
      "    For consistency with the interpolation functions, the following mode\n",
      "    names can also be used:\n",
      "\n",
      "    'grid-mirror'\n",
      "        This is a synonym for 'reflect'.\n",
      "\n",
      "    'grid-constant'\n",
      "        This is a synonym for 'constant'.\n",
      "\n",
      "    'grid-wrap'\n",
      "        This is a synonym for 'wrap'.\n",
      "cval : scalar, optional\n",
      "    Value to fill past edges of input if `mode` is 'constant'. Default\n",
      "    is 0.0.\n",
      "origin : int, optional\n",
      "    Controls the placement of the filter on the input array's pixels.\n",
      "    A value of 0 (the default) centers the filter over the pixel, with\n",
      "    positive values shifting the filter to the left, and negative ones\n",
      "    to the right.\n",
      "\n",
      "Returns\n",
      "-------\n",
      "convolve1d : ndarray\n",
      "    Convolved array with same shape as input\n",
      "\n",
      "Examples\n",
      "--------\n",
      ">>> from scipy.ndimage import convolve1d\n",
      ">>> convolve1d([2, 8, 0, 4, 1, 9, 9, 0], weights=[1, 3])\n",
      "array([14, 24,  4, 13, 12, 36, 27,  0])\n",
      "\u001b[1;31mFile:\u001b[0m      c:\\python312\\lib\\site-packages\\scipy\\ndimage\\_filters.py\n",
      "\u001b[1;31mType:\u001b[0m      function"
     ]
    }
   ],
   "source": [
    "?scipy.ndimage.convolve1d"
   ]
  },
  {
   "cell_type": "code",
   "execution_count": 150,
   "metadata": {},
   "outputs": [
    {
     "data": {
      "text/plain": [
       "array([[1., 0., 0., 1., 0., 0., 0.],\n",
       "       [2., 0., 0., 2., 0., 0., 0.],\n",
       "       [1., 0., 0., 1., 1., 0., 0.],\n",
       "       [2., 0., 0., 2., 1., 0., 0.],\n",
       "       [1., 0., 1., 2., 1., 0., 0.],\n",
       "       [2., 2., 2., 1., 1., 1., 1.]])"
      ]
     },
     "execution_count": 150,
     "metadata": {},
     "output_type": "execute_result"
    }
   ],
   "source": [
    "board"
   ]
  },
  {
   "cell_type": "code",
   "execution_count": 14,
   "metadata": {},
   "outputs": [
    {
     "data": {
      "text/plain": [
       "10"
      ]
     },
     "execution_count": 14,
     "metadata": {},
     "output_type": "execute_result"
    }
   ],
   "source": [
    "len(game_histories)"
   ]
  },
  {
   "cell_type": "code",
   "execution_count": 128,
   "metadata": {},
   "outputs": [
    {
     "data": {
      "text/plain": [
       "[0]"
      ]
     },
     "execution_count": 128,
     "metadata": {},
     "output_type": "execute_result"
    }
   ],
   "source": [
    "list(range(len(input_indices) - 3))"
   ]
  },
  {
   "cell_type": "code",
   "execution_count": 130,
   "metadata": {},
   "outputs": [
    {
     "name": "stdout",
     "output_type": "stream",
     "text": [
      "0\n"
     ]
    }
   ],
   "source": [
    "for i in range(len(input_indices) - 3):\n",
    "    print(i)"
   ]
  },
  {
   "cell_type": "code",
   "execution_count": 131,
   "metadata": {},
   "outputs": [
    {
     "data": {
      "text/plain": [
       "4"
      ]
     },
     "execution_count": 131,
     "metadata": {},
     "output_type": "execute_result"
    }
   ],
   "source": [
    "len(input_indices)"
   ]
  },
  {
   "cell_type": "code",
   "execution_count": 147,
   "metadata": {},
   "outputs": [
    {
     "data": {
      "text/plain": [
       "[(5, 1), (5, 2), (5, 3), (5, 4), (5, 5), (5, 6)]"
      ]
     },
     "execution_count": 147,
     "metadata": {},
     "output_type": "execute_result"
    }
   ],
   "source": [
    "input_indices"
   ]
  },
  {
   "cell_type": "code",
   "execution_count": 143,
   "metadata": {},
   "outputs": [
    {
     "data": {
      "text/plain": [
       "2.0"
      ]
     },
     "execution_count": 143,
     "metadata": {},
     "output_type": "execute_result"
    }
   ],
   "source": [
    "board[winning_indices[0]]"
   ]
  },
  {
   "cell_type": "code",
   "execution_count": 144,
   "metadata": {},
   "outputs": [
    {
     "data": {
      "text/plain": [
       "(5, 2)"
      ]
     },
     "execution_count": 144,
     "metadata": {},
     "output_type": "execute_result"
    }
   ],
   "source": [
    "input_indices[i:i+4][0]"
   ]
  },
  {
   "cell_type": "code",
   "execution_count": null,
   "metadata": {},
   "outputs": [],
   "source": []
  }
 ],
 "metadata": {
  "kernelspec": {
   "display_name": "Python 3",
   "language": "python",
   "name": "python3"
  },
  "language_info": {
   "codemirror_mode": {
    "name": "ipython",
    "version": 3
   },
   "file_extension": ".py",
   "mimetype": "text/x-python",
   "name": "python",
   "nbconvert_exporter": "python",
   "pygments_lexer": "ipython3",
   "version": "3.12.1"
  }
 },
 "nbformat": 4,
 "nbformat_minor": 2
}
