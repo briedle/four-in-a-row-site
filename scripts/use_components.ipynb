{
 "cells": [
  {
   "cell_type": "code",
   "execution_count": 9,
   "metadata": {},
   "outputs": [],
   "source": [
    "from scripts.game_components import  ConnectFourBoard, ConnectFourGame, ComputerPlayer\n",
    "\n",
    "import pandas as pd \n",
    "import numpy as np\n",
    "import tensorflow as tf\n",
    "import random"
   ]
  },
  {
   "cell_type": "code",
   "execution_count": 37,
   "metadata": {},
   "outputs": [
    {
     "name": "stdout",
     "output_type": "stream",
     "text": [
      "CPU times: total: 12 s\n",
      "Wall time: 12 s\n"
     ]
    }
   ],
   "source": [
    "%%time\n",
    "n_games = 10_000\n",
    "game_history_df_list = []\n",
    "\n",
    "board_history_list = []\n",
    "for i in range(n_games):\n",
    "    board = ConnectFourBoard()\n",
    "    player1 = ComputerPlayer(board)\n",
    "    player2 = ComputerPlayer(board)\n",
    "    game = ConnectFourGame(board, player1, player2)\n",
    "    game()\n",
    "    game.history.history['winner'] = game.board.winner\n",
    "    game.history.history['game_number'] = i\n",
    "    game_history_df_list.append(game.history.history)\n",
    "\n",
    "game_history_df = pd.concat(game_history_df_list)\n"
   ]
  },
  {
   "cell_type": "code",
   "execution_count": 38,
   "metadata": {},
   "outputs": [],
   "source": [
    "def reconstruct_board(game_number):\n",
    "    move_data = (\n",
    "        game_history_df\n",
    "        [game_history_df['game_number'] == game_number]\n",
    "        [['player', 'row', 'col']]\n",
    "    )\n",
    "    winner = game_history_df[game_history_df['game_number'] == game_number]['winner'].iloc[0]\n",
    "    player1_wins = winner == 1\n",
    "    board_list = []\n",
    "    board = ConnectFourBoard()\n",
    "    for _, move in move_data.iterrows():\n",
    "        board.drop_piece(move['col'], move['player'])\n",
    "        board_list.append(board.board.copy())\n",
    "    return board_list, player1_wins"
   ]
  },
  {
   "cell_type": "code",
   "execution_count": 39,
   "metadata": {},
   "outputs": [],
   "source": [
    "full_board_list = []\n",
    "player1_wins_list = []\n",
    "for i in range(n_games):\n",
    "    board_list, player1_wins = reconstruct_board(i)\n",
    "    full_board_list.extend(board_list)\n",
    "    player1_wins_list.extend([player1_wins] * len(board_list))"
   ]
  },
  {
   "cell_type": "code",
   "execution_count": 40,
   "metadata": {},
   "outputs": [
    {
     "name": "stdout",
     "output_type": "stream",
     "text": [
      "(212984, 6, 7) (212984,)\n"
     ]
    }
   ],
   "source": [
    "full_board_array = np.stack(full_board_list, axis=0)\n",
    "player1_wins_array = np.array(player1_wins_list)\n",
    "print(full_board_array.shape, player1_wins_array.shape)"
   ]
  },
  {
   "cell_type": "code",
   "execution_count": 41,
   "metadata": {},
   "outputs": [],
   "source": [
    "num_actions = 7\n",
    "num_states = [6, 7]\n",
    "\n",
    "\n",
    "input = tf.keras.layers.Input(shape = (6, 7))\n",
    "flatten = tf.keras.layers.Flatten()(input)\n",
    "hidden_1 = tf.keras.layers.Dense(32, activation = 'relu')(flatten)\n",
    "hidden_2 = tf.keras.layers.Dense(16, activation = 'relu')(hidden_1)\n",
    "# output = tf.keras.layers.Dense(num_actions, activation = \"linear\")(hidden_2) \n",
    "output = tf.keras.layers.Dense(1, activation = \"sigmoid\")(hidden_2)\n",
    "c4_model = tf.keras.models.Model(inputs = [input], outputs = [output])"
   ]
  },
  {
   "cell_type": "code",
   "execution_count": 42,
   "metadata": {},
   "outputs": [],
   "source": [
    "c4_model.compile(optimizer='adam',\n",
    "                 loss='binary_crossentropy',  # or another appropriate loss function depending on your problem\n",
    "                 metrics=['accuracy'])       # you can change this metric based on your problem\n"
   ]
  },
  {
   "cell_type": "code",
   "execution_count": 43,
   "metadata": {},
   "outputs": [
    {
     "name": "stdout",
     "output_type": "stream",
     "text": [
      "Epoch 1/10\n",
      "5325/5325 [==============================] - 6s 1ms/step - loss: 0.6785 - accuracy: 0.5724 - val_loss: 0.6877 - val_accuracy: 0.5557\n",
      "Epoch 2/10\n",
      "5325/5325 [==============================] - 6s 1ms/step - loss: 0.6674 - accuracy: 0.5926 - val_loss: 0.6946 - val_accuracy: 0.5475\n",
      "Epoch 3/10\n",
      "5325/5325 [==============================] - 6s 1ms/step - loss: 0.6613 - accuracy: 0.6023 - val_loss: 0.6907 - val_accuracy: 0.5564\n",
      "Epoch 4/10\n",
      "5325/5325 [==============================] - 6s 1ms/step - loss: 0.6568 - accuracy: 0.6076 - val_loss: 0.6938 - val_accuracy: 0.5600\n",
      "Epoch 5/10\n",
      "5325/5325 [==============================] - 6s 1ms/step - loss: 0.6531 - accuracy: 0.6126 - val_loss: 0.7007 - val_accuracy: 0.5609\n",
      "Epoch 6/10\n",
      "5325/5325 [==============================] - 6s 1ms/step - loss: 0.6503 - accuracy: 0.6149 - val_loss: 0.7012 - val_accuracy: 0.5579\n",
      "Epoch 7/10\n",
      "5325/5325 [==============================] - 6s 1ms/step - loss: 0.6476 - accuracy: 0.6182 - val_loss: 0.7022 - val_accuracy: 0.5607\n",
      "Epoch 8/10\n",
      "5325/5325 [==============================] - 6s 1ms/step - loss: 0.6459 - accuracy: 0.6199 - val_loss: 0.7026 - val_accuracy: 0.5533\n",
      "Epoch 9/10\n",
      "5325/5325 [==============================] - 6s 1ms/step - loss: 0.6438 - accuracy: 0.6229 - val_loss: 0.7074 - val_accuracy: 0.5588\n",
      "Epoch 10/10\n",
      "5325/5325 [==============================] - 6s 1ms/step - loss: 0.6418 - accuracy: 0.6241 - val_loss: 0.7064 - val_accuracy: 0.5547\n"
     ]
    }
   ],
   "source": [
    "history = c4_model.fit(full_board_array, player1_wins_array, epochs=10, batch_size=32, validation_split=0.2)\n"
   ]
  },
  {
   "cell_type": "code",
   "execution_count": null,
   "metadata": {},
   "outputs": [],
   "source": []
  },
  {
   "cell_type": "code",
   "execution_count": null,
   "metadata": {},
   "outputs": [],
   "source": []
  },
  {
   "cell_type": "code",
   "execution_count": 6,
   "metadata": {},
   "outputs": [
    {
     "data": {
      "text/html": [
       "<div>\n",
       "<style scoped>\n",
       "    .dataframe tbody tr th:only-of-type {\n",
       "        vertical-align: middle;\n",
       "    }\n",
       "\n",
       "    .dataframe tbody tr th {\n",
       "        vertical-align: top;\n",
       "    }\n",
       "\n",
       "    .dataframe thead th {\n",
       "        text-align: right;\n",
       "    }\n",
       "</style>\n",
       "<table border=\"1\" class=\"dataframe\">\n",
       "  <thead>\n",
       "    <tr style=\"text-align: right;\">\n",
       "      <th></th>\n",
       "      <th>winner</th>\n",
       "      <th>count</th>\n",
       "    </tr>\n",
       "  </thead>\n",
       "  <tbody>\n",
       "    <tr>\n",
       "      <th>0</th>\n",
       "      <td>1</td>\n",
       "      <td>561</td>\n",
       "    </tr>\n",
       "    <tr>\n",
       "      <th>1</th>\n",
       "      <td>2</td>\n",
       "      <td>435</td>\n",
       "    </tr>\n",
       "  </tbody>\n",
       "</table>\n",
       "</div>"
      ],
      "text/plain": [
       "   winner  count\n",
       "0       1    561\n",
       "1       2    435"
      ]
     },
     "execution_count": 6,
     "metadata": {},
     "output_type": "execute_result"
    }
   ],
   "source": [
    "winner_counts = (\n",
    "    game_history_df\n",
    "    [['winner', 'game_number']]\n",
    "    .drop_duplicates()\n",
    "    .value_counts('winner')\n",
    "    .reset_index()\n",
    ")\n",
    "winner_counts"
   ]
  },
  {
   "cell_type": "code",
   "execution_count": 11,
   "metadata": {},
   "outputs": [
    {
     "data": {
      "text/plain": [
       "'model'"
      ]
     },
     "execution_count": 11,
     "metadata": {},
     "output_type": "execute_result"
    }
   ],
   "source": [
    "#Define epsilon decision function\n",
    "def epsilonDecision(epsilon):\n",
    "  action_decision = random.choices(['model','random'], weights = [1 - epsilon, epsilon])[0]\n",
    "  return action_decision\n",
    "epsilonDecision(epsilon = 0.10) # would always give 'mode"
   ]
  },
  {
   "cell_type": "code",
   "execution_count": 19,
   "metadata": {},
   "outputs": [
    {
     "name": "stdout",
     "output_type": "stream",
     "text": [
      "WARNING:tensorflow:From c:\\Users\\Administrator\\AppData\\Local\\Programs\\Python\\Python311\\Lib\\site-packages\\keras\\src\\backend.py:1398: The name tf.executing_eagerly_outside_functions is deprecated. Please use tf.compat.v1.executing_eagerly_outside_functions instead.\n",
      "\n"
     ]
    }
   ],
   "source": [
    "num_actions = 7\n",
    "num_states = [6, 7]\n",
    "\n",
    "\n",
    "input = tf.keras.layers.Input(shape = (6, 7))\n",
    "flatten = tf.keras.layers.Flatten()(input)\n",
    "hidden_1 = tf.keras.layers.Dense(50, activation = 'relu')(flatten)\n",
    "hidden_2 = tf.keras.layers.Dense(50, activation = 'relu')(hidden_1)\n",
    "hidden_3 = tf.keras.layers.Dense(50, activation = 'relu')(hidden_2)\n",
    "hidden_4 = tf.keras.layers.Dense(50, activation = 'relu')(hidden_3)\n",
    "output = tf.keras.layers.Dense(num_actions, activation = \"linear\")(hidden_4) \n",
    "c4_model = tf.keras.models.Model(inputs = [input], outputs = [output])"
   ]
  },
  {
   "cell_type": "code",
   "execution_count": 24,
   "metadata": {},
   "outputs": [
    {
     "data": {
      "text/plain": [
       "22005"
      ]
     },
     "execution_count": 24,
     "metadata": {},
     "output_type": "execute_result"
    }
   ],
   "source": [
    "len(full_board_list)"
   ]
  },
  {
   "cell_type": "code",
   "execution_count": null,
   "metadata": {},
   "outputs": [],
   "source": []
  }
 ],
 "metadata": {
  "kernelspec": {
   "display_name": "Python 3",
   "language": "python",
   "name": "python3"
  },
  "language_info": {
   "codemirror_mode": {
    "name": "ipython",
    "version": 3
   },
   "file_extension": ".py",
   "mimetype": "text/x-python",
   "name": "python",
   "nbconvert_exporter": "python",
   "pygments_lexer": "ipython3",
   "version": "3.11.7"
  }
 },
 "nbformat": 4,
 "nbformat_minor": 2
}
